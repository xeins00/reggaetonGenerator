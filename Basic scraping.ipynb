{
 "cells": [
  {
   "cell_type": "markdown",
   "metadata": {},
   "source": [
    "# Obtencion de letras de canciones"
   ]
  },
  {
   "cell_type": "markdown",
   "metadata": {},
   "source": [
    "## Importamos la lista de Artistas"
   ]
  },
  {
   "cell_type": "code",
   "execution_count": 1,
   "metadata": {
    "collapsed": true
   },
   "outputs": [],
   "source": [
    "import json\n",
    "import pickle"
   ]
  },
  {
   "cell_type": "code",
   "execution_count": 2,
   "metadata": {
    "collapsed": true
   },
   "outputs": [],
   "source": [
    "json_data=open('artistas.json').read()\n",
    "data_artistas = json.loads(json_data)"
   ]
  },
  {
   "cell_type": "code",
   "execution_count": 3,
   "metadata": {
    "collapsed": true
   },
   "outputs": [],
   "source": [
    "artists = data_artistas[0]['artist']"
   ]
  },
  {
   "cell_type": "code",
   "execution_count": 4,
   "metadata": {
    "collapsed": true
   },
   "outputs": [],
   "source": [
    "lista_artists = [ 'https://www.letras.com' + artista for artista in artists]"
   ]
  },
  {
   "cell_type": "code",
   "execution_count": 5,
   "metadata": {},
   "outputs": [
    {
     "data": {
      "text/plain": [
       "['https://www.letras.com/daddy-yankee/',\n",
       " 'https://www.letras.com/calle-13/',\n",
       " 'https://www.letras.com/vico-c/',\n",
       " 'https://www.letras.com/j-alvarez/',\n",
       " 'https://www.letras.com/maluma/',\n",
       " 'https://www.letras.com/carlos-rivera/',\n",
       " 'https://www.letras.com/macaco/',\n",
       " 'https://www.letras.com/zion-y-lennox/',\n",
       " 'https://www.letras.com/rakim-ken-y/',\n",
       " 'https://www.letras.com/tony-dize/']"
      ]
     },
     "execution_count": 5,
     "metadata": {},
     "output_type": "execute_result"
    }
   ],
   "source": [
    "lista_artists[:10]"
   ]
  },
  {
   "cell_type": "code",
   "execution_count": 6,
   "metadata": {
    "scrolled": false
   },
   "outputs": [
    {
     "data": {
      "text/plain": [
       "32"
      ]
     },
     "execution_count": 6,
     "metadata": {},
     "output_type": "execute_result"
    }
   ],
   "source": [
    "len(lista_artists)"
   ]
  },
  {
   "cell_type": "markdown",
   "metadata": {},
   "source": [
    "Gurdamos la lista en formato **pickle**"
   ]
  },
  {
   "cell_type": "code",
   "execution_count": 7,
   "metadata": {
    "collapsed": true
   },
   "outputs": [],
   "source": [
    "with open('lista_artistas.pickle', 'wb') as handle:\n",
    "    pickle.dump(lista_artists, handle, protocol=pickle.HIGHEST_PROTOCOL)"
   ]
  },
  {
   "cell_type": "markdown",
   "metadata": {},
   "source": [
    "## Importamos la lista de canciones"
   ]
  },
  {
   "cell_type": "code",
   "execution_count": 8,
   "metadata": {},
   "outputs": [],
   "source": [
    "json_data=open('canciones.json').read()\n",
    "data_canciones = json.loads(json_data)"
   ]
  },
  {
   "cell_type": "code",
   "execution_count": 9,
   "metadata": {},
   "outputs": [],
   "source": [
    "lista_canciones = []\n",
    "for canciones in data_canciones:\n",
    "#     print(canciones['urls'])\n",
    "    for cancion in canciones['urls']:\n",
    "        lista_canciones.append(cancion)"
   ]
  },
  {
   "cell_type": "code",
   "execution_count": 10,
   "metadata": {
    "collapsed": true
   },
   "outputs": [],
   "source": [
    "lista_canciones = [ 'https://www.letras.com' + cancion for cancion in lista_canciones]"
   ]
  },
  {
   "cell_type": "code",
   "execution_count": 11,
   "metadata": {
    "scrolled": true
   },
   "outputs": [
    {
     "data": {
      "text/plain": [
       "['https://www.letras.com/daddy-yankee/919375/',\n",
       " 'https://www.letras.com/daddy-yankee/295204/',\n",
       " 'https://www.letras.com/daddy-yankee/131107/',\n",
       " 'https://www.letras.com/daddy-yankee/942260/',\n",
       " 'https://www.letras.com/daddy-yankee/3030/',\n",
       " 'https://www.letras.com/daddy-yankee/6-de-enero/',\n",
       " 'https://www.letras.com/daddy-yankee/1438570/',\n",
       " 'https://www.letras.com/daddy-yankee/1012906/',\n",
       " 'https://www.letras.com/daddy-yankee/490769/',\n",
       " 'https://www.letras.com/daddy-yankee/after-party/']"
      ]
     },
     "execution_count": 11,
     "metadata": {},
     "output_type": "execute_result"
    }
   ],
   "source": [
    "lista_canciones[:10]"
   ]
  },
  {
   "cell_type": "code",
   "execution_count": 12,
   "metadata": {},
   "outputs": [
    {
     "data": {
      "text/plain": [
       "3847"
      ]
     },
     "execution_count": 12,
     "metadata": {},
     "output_type": "execute_result"
    }
   ],
   "source": [
    "len(lista_canciones)"
   ]
  },
  {
   "cell_type": "code",
   "execution_count": 13,
   "metadata": {
    "collapsed": true
   },
   "outputs": [],
   "source": [
    "with open('lista_canciones.pickle', 'wb') as handle:\n",
    "    pickle.dump(lista_canciones, handle, protocol=pickle.HIGHEST_PROTOCOL)"
   ]
  },
  {
   "cell_type": "markdown",
   "metadata": {
    "collapsed": true
   },
   "source": [
    "## Importamos la lista de canciones"
   ]
  },
  {
   "cell_type": "code",
   "execution_count": 14,
   "metadata": {},
   "outputs": [],
   "source": [
    "json_data=open('letras.json').read()\n",
    "data_canciones = json.loads(json_data)"
   ]
  },
  {
   "cell_type": "code",
   "execution_count": 15,
   "metadata": {},
   "outputs": [
    {
     "data": {
      "text/plain": [
       "3846"
      ]
     },
     "execution_count": 15,
     "metadata": {},
     "output_type": "execute_result"
    }
   ],
   "source": [
    "len(data_canciones)"
   ]
  },
  {
   "cell_type": "code",
   "execution_count": 16,
   "metadata": {},
   "outputs": [
    {
     "data": {
      "text/plain": [
       "['Tu sigues descontrolandome...',\n",
       " 'Pero ni estamos amandonos...',\n",
       " '(¿Que, que, que, que?)',\n",
       " 'Tu sigues descontrolandome...',\n",
       " 'Pero ni estamos amandonos...']"
      ]
     },
     "execution_count": 16,
     "metadata": {},
     "output_type": "execute_result"
    }
   ],
   "source": [
    "data_canciones[4]['lyrics'][:5]"
   ]
  },
  {
   "cell_type": "code",
   "execution_count": 17,
   "metadata": {},
   "outputs": [
    {
     "name": "stdout",
     "output_type": "stream",
     "text": [
      "Numero de lineas promedia 69.63416536661467\n"
     ]
    }
   ],
   "source": [
    "num_lineas = []\n",
    "for i, cancion in enumerate(data_canciones):\n",
    "    num_lineas.append(len(data_canciones[i]['lyrics']))\n",
    "    \n",
    "print(\"Numero de lineas promedia {}\".format(sum(num_lineas)/len(num_lineas)))"
   ]
  },
  {
   "cell_type": "code",
   "execution_count": 18,
   "metadata": {},
   "outputs": [
    {
     "name": "stdout",
     "output_type": "stream",
     "text": [
      "['Mami no creas que aquí se juega', 'Hoy la discoteca está caliente', 'Mucho movimiento de cadera', 'El bambino se te pega']\n"
     ]
    }
   ],
   "source": [
    "primera_cancion = data_canciones[42]['lyrics'][:4]\n",
    "print(primera_cancion)"
   ]
  },
  {
   "cell_type": "markdown",
   "metadata": {},
   "source": [
    "El texto para entrenar debe estar de la siguiente manera:\n",
    "\n",
    "\n",
    " letra_primera_canción_linea1 \\n *(salto de linea)*\n",
    " letra_primera_canción_linea2 \\n *(salto de linea)*\n",
    " letra_primera_canción_linea3 \\n *(salto de linea)*\n",
    " letra_primera_canción_linea4 \\n *(salto de linea)*\n",
    " letra_primera_canción_linea5 \\n *(salto de linea)*\n",
    " \\n\\n *(Doble salto de linea indica el final de la cancion)*\n",
    "\n",
    " letra_segunda_canción_linea1 \\n *(salto de linea)*\n",
    " letra_segunda_canción_linea2 \\n *(salto de linea)*\n",
    " letra_segunda_canción_linea3 \\n *(salto de linea)*\n",
    " letra_segunda_canción_linea4 \\n *(salto de linea)*\n",
    " letra_segunda_canción_linea5 \\n *(salto de linea)*\n",
    "\n",
    " ....\n",
    " ...."
   ]
  },
  {
   "cell_type": "code",
   "execution_count": 19,
   "metadata": {
    "scrolled": true
   },
   "outputs": [
    {
     "data": {
      "text/plain": [
       "'Mami no creas que aquí se juega\\nHoy la discoteca está caliente\\nMucho movimiento de cadera\\nEl bambino se te pega'"
      ]
     },
     "execution_count": 19,
     "metadata": {},
     "output_type": "execute_result"
    }
   ],
   "source": [
    "('\\n').join(primera_cancion)"
   ]
  },
  {
   "cell_type": "code",
   "execution_count": 23,
   "metadata": {},
   "outputs": [
    {
     "ename": "UnicodeEncodeError",
     "evalue": "'charmap' codec can't encode character '\\u0117' in position 568: character maps to <undefined>",
     "output_type": "error",
     "traceback": [
      "\u001b[1;31m---------------------------------------------------------------------------\u001b[0m",
      "\u001b[1;31mUnicodeEncodeError\u001b[0m                        Traceback (most recent call last)",
      "\u001b[1;32mc:\\Users\\porte\\source\\repos\\reggaetonGenerator\\Basic scraping.ipynb Cell 26'\u001b[0m in \u001b[0;36m<cell line: 1>\u001b[1;34m()\u001b[0m\n\u001b[0;32m      <a href='vscode-notebook-cell:/c%3A/Users/porte/source/repos/reggaetonGenerator/Basic%20scraping.ipynb#ch0000025?line=3'>4</a>\u001b[0m letras_formateada \u001b[39m=\u001b[39m cancion[\u001b[39m'\u001b[39m\u001b[39mlyrics\u001b[39m\u001b[39m'\u001b[39m]\n\u001b[0;32m      <a href='vscode-notebook-cell:/c%3A/Users/porte/source/repos/reggaetonGenerator/Basic%20scraping.ipynb#ch0000025?line=4'>5</a>\u001b[0m letras_formateada \u001b[39m=\u001b[39m (\u001b[39m'\u001b[39m\u001b[39m\\n\u001b[39;00m\u001b[39m'\u001b[39m)\u001b[39m.\u001b[39mjoin(letras_formateada)\n\u001b[1;32m----> <a href='vscode-notebook-cell:/c%3A/Users/porte/source/repos/reggaetonGenerator/Basic%20scraping.ipynb#ch0000025?line=5'>6</a>\u001b[0m text_file\u001b[39m.\u001b[39;49mwrite(letras_formateada \u001b[39m+\u001b[39;49m \u001b[39m'\u001b[39;49m\u001b[39m\\n\u001b[39;49;00m\u001b[39m\\n\u001b[39;49;00m\u001b[39m'\u001b[39;49m)\n",
      "File \u001b[1;32mc:\\Users\\porte\\AppData\\Local\\Programs\\Python\\Python310\\lib\\encodings\\cp1252.py:19\u001b[0m, in \u001b[0;36mIncrementalEncoder.encode\u001b[1;34m(self, input, final)\u001b[0m\n\u001b[0;32m     18\u001b[0m \u001b[39mdef\u001b[39;00m \u001b[39mencode\u001b[39m(\u001b[39mself\u001b[39m, \u001b[39minput\u001b[39m, final\u001b[39m=\u001b[39m\u001b[39mFalse\u001b[39;00m):\n\u001b[1;32m---> 19\u001b[0m     \u001b[39mreturn\u001b[39;00m codecs\u001b[39m.\u001b[39;49mcharmap_encode(\u001b[39minput\u001b[39;49m,\u001b[39mself\u001b[39;49m\u001b[39m.\u001b[39;49merrors,encoding_table)[\u001b[39m0\u001b[39m]\n",
      "\u001b[1;31mUnicodeEncodeError\u001b[0m: 'charmap' codec can't encode character '\\u0117' in position 568: character maps to <undefined>"
     ]
    }
   ],
   "source": [
    "with open(\"letrasFinal.txt\", \"w\") as text_file:\n",
    "    \n",
    "    for cancion in data_canciones:\n",
    "        letras_formateada = cancion['lyrics']\n",
    "        letras_formateada = ('\\n').join(letras_formateada)\n",
    "        text_file.write(letras_formateada + '\\n\\n')"
   ]
  },
  {
   "cell_type": "code",
   "execution_count": null,
   "metadata": {
    "collapsed": true
   },
   "outputs": [],
   "source": []
  }
 ],
 "metadata": {
  "kernelspec": {
   "display_name": "Python 3.10.5 64-bit",
   "language": "python",
   "name": "python3"
  },
  "language_info": {
   "codemirror_mode": {
    "name": "ipython",
    "version": 3
   },
   "file_extension": ".py",
   "mimetype": "text/x-python",
   "name": "python",
   "nbconvert_exporter": "python",
   "pygments_lexer": "ipython3",
   "version": "3.10.5"
  },
  "vscode": {
   "interpreter": {
    "hash": "07401f7a3740548ba8e43560ec8fa2f606476600b31f358c7630a4f8dfcf7f58"
   }
  }
 },
 "nbformat": 4,
 "nbformat_minor": 2
}
